{
 "cells": [
  {
   "cell_type": "code",
   "execution_count": 23,
   "metadata": {},
   "outputs": [
    {
     "name": "stdout",
     "output_type": "stream",
     "text": [
      "2.4.1\n",
      "当前的文件目录 c:\\Users\\tao.yu\\Desktop\\flow\\tools\n",
      "#######################\n"
     ]
    }
   ],
   "source": [
    "import numpy as np\n",
    "import re\n",
    "import itertools\n",
    "import sys\n",
    "import os\n",
    "import time\n",
    "import tensorflow as tf\n",
    "print(tf.__version__)\n",
    "\n",
    "# 获取当前工作目录\n",
    "cur_dirname = os.getcwd()\n",
    "print (\"当前的文件目录\",cur_dirname)\n",
    "print (\"#######################\")\n",
    "sed_combine = os.path.join(cur_dirname,'sed_combine')   #文件  三行数据组合成一个sed替换命令\n",
    "add_space = os.path.join(cur_dirname,'add_space')       #文件  需要给每行添加空格\n",
    "duplicate_lines = os.path.join(cur_dirname,'duplicate_lines')   #文件  找出文件里面的重复行\n",
    "\n",
    "\n",
    "remove_duplicate = os.path.join(cur_dirname,'remove_duplicate')  \n",
    "input_file_path = remove_duplicate+\"/remove_duplicates\"    # 替换为输入文件的路径\n",
    "output_file_path = remove_duplicate+\"/remove_duplicates_after\"  # 替换为输出文件的路径\n",
    "\n",
    "\n",
    "# input_file_path = \"remove_duplicate\\\\remove_duplicates\"    # 替换为输入文件的路径\n",
    "# output_file_path = \"remove_duplicate\\\\remove_duplicates_after\"  # 替换为输出文件的路径\n",
    "\n",
    "\n",
    "# 遍历当前目录下的所有文件\n",
    "# for root, dirs, files in os.walk(cur_dirname):\n",
    "#     for file in files:\n",
    "#         # 输出文件路径\n",
    "#         print(os.path.join(root, file))"
   ]
  },
  {
   "cell_type": "raw",
   "metadata": {},
   "source": [
    "file path:\n",
    "   处理的file在如下路径： C:\\Users\\tao.yu\\Desktop\\tools\n",
    "    add_space 是为了给字与字之间添加kongg\n",
    "    duplicate_lines 这个是找出文件里面的重复行\n",
    "    C:\\Users\\tao.yu\\Desktop\\tools\\remove_duplicate           这个folder是给文件去重并且生成另外一个文件"
   ]
  },
  {
   "cell_type": "markdown",
   "metadata": {},
   "source": [
    "# sed 修改文件行"
   ]
  },
  {
   "cell_type": "code",
   "execution_count": 10,
   "metadata": {},
   "outputs": [
    {
     "name": "stdout",
     "output_type": "stream",
     "text": [
      "sed -i 's/麻|<unk> 烦|<unk> 帮|<unk> 我|<unk> 调|<unk> 节|<unk> 到|<unk> 布|<genre> 鲁|<genre> 斯|<genre> 音|<unk> 乐|<unk>/麻|<unk> 烦|<unk> 帮|<unk> 我|<unk> 调|<unk> 节|<unk> 到|<unk> 布|<new_genre> 鲁|<new_genre> 斯|<new_genre> 音|<unk> 乐|<unk>/g'     /mnt/nlu/users/tao.yu/resources_integration/original_repos/zh-CN/zh-CN/NCS5.1/CTagger/data/jiras_train/ONENLU-209733.fieldannotatedstring\n"
     ]
    }
   ],
   "source": [
    "def read_lines_combine_sed(file_path):\n",
    "    lines = []\n",
    "    with open(file_path, 'r', encoding='utf-8') as file:\n",
    "        for line in file:\n",
    "                lines.append(line.strip())\n",
    "    combination = \"sed -i 's/\"+lines[0]+\"/\"+lines[1]+\"/g'\"+\"     \"+lines[2]\n",
    "    print (combination)\n",
    "\n",
    "if __name__ == \"__main__\":\n",
    "    read_lines_combine_sed(sed_combine)\n",
    "    "
   ]
  },
  {
   "attachments": {},
   "cell_type": "markdown",
   "metadata": {},
   "source": [
    "# Sed"
   ]
  },
  {
   "cell_type": "code",
   "execution_count": 11,
   "metadata": {},
   "outputs": [
    {
     "name": "stdout",
     "output_type": "stream",
     "text": [
      "sed -i 's/后|<light_type> 雾|<light_type> 灯|<unk>/后|<light_type> 雾|<light_type> 灯|<light_type>/g'     zh-CN/NCS5.1/CTagger/data/jiras_train/ONENLU-260909.fieldannotatedstring\n"
     ]
    }
   ],
   "source": [
    "string_a = \"后|<light_type> 雾|<light_type> 灯|<unk>\"\n",
    "string_b = \"后|<light_type> 雾|<light_type> 灯|<light_type>\"\n",
    "\n",
    "# if \"|\" in string_a:\n",
    "#     string_a = string_a.replace(\"|\",\"\\|\")\n",
    "# print (string_a)\n",
    "\n",
    "# if \"|\" in string_b:\n",
    "#     string_b = string_b.replace(\"|\",\"\\|\")\n",
    "# print (string_b)   \n",
    "    \n",
    "file_path = \"zh-CN/NCS5.1/CTagger/data/jiras_train/ONENLU-260909.fieldannotatedstring\"\n",
    "combination = \"sed -i 's/\"+string_a+\"/\"+string_b+\"/g'\"+\"     \"+file_path\n",
    "print (combination)\n",
    "\n",
    "\n",
    "\n",
    "#sed -i 's/statement:decline/generic:decline/g' zh-CN/NCS5.1/CTagger/data/jiras_train/ONENLU-260626.fieldannotatedstring\n",
    "#sed -i 's/我\\|unk/我\\|<abc>/g' file.txt\n",
    "\n",
    "\n",
    "#sed -i '/business:airline:search/s/新|<city_destination> 郑|<city_destination> 国|<city_destination> 际|<city_destination> 机|<city_destination> 场|<city_destination>/新|<named_business_destination> 郑|<named_business_destination> 国|<named_business_destination> 际|<named_business_destination> 机|<named_business_destination> 场|<named_business_destination>/g' `grep \"business:airline:search\" -E -rl  $RESOURCES/zh-CN/NCS5.1/CTagger/data`\n",
    "# match pattern business:airline:search下面然后替换新郑国际机场的tag\n"
   ]
  },
  {
   "attachments": {},
   "cell_type": "markdown",
   "metadata": {},
   "source": [
    "如果您想使用 sed 命令来替换文件中的具体行的字符串，可以使用以下命令：\n",
    "plaintext\n",
    "sed -i 's/原始字符串/替换字符串/g' 文件名\n",
    "其中，-i 选项表示在修改文件时不创建备份文件，而是直接修改原始文件。s 是 sed 的替换命令，后面跟着两个字符串，分别是原始字符串和替换字符串。g 选项表示全局替换，即在整个行中替换所有匹配的字符串。\n",
    "例如，如果您想将文件中的第 3 行的字符串 “hello world” 替换为 “hello Python”，可以使用以下命令：\n",
    "plaintext\n",
    "sed -i '3s/hello world/hello Python/g' file.txt\n",
    "请注意，在使用 sed 命令时，需要指定文件的路径。"
   ]
  },
  {
   "cell_type": "raw",
   "metadata": {},
   "source": [
    "如果您想使用 sed 命令查找文件中的固定模式，可以使用以下命令：\n",
    "plaintext\n",
    "sed '/固定模式/d' 文件名\n",
    "其中，/固定模式/ 是 sed 的查找模式，后面跟着 d 命令，表示删除所有匹配的行。文件名是要处理的文件的名称。\n",
    "例如，如果您想查找文件中的所有字符串 “hello world”，可以使用以下命令：\n",
    "plaintext\n",
    "sed '/hello world/d' file.txt\n",
    "执行命令后，文件中所有包含字符串 “hello world” 的行将被删除。"
   ]
  },
  {
   "cell_type": "raw",
   "metadata": {},
   "source": [
    "sed -n '/固定模式/p' 文件名\n",
    "其中，-n 选项表示只打印被找到的行，而不打印其他行。/固定模式/ 是 sed 的查找模式，后面跟着 p 命令，表示打印匹配的行。文件名是要处理的文件的名称。\n",
    "例如，如果您想查找文件中的所有字符串 “hello world”，并打印出来，可以使用以下命令：\n",
    "plaintext\n",
    "sed -n '/hello world/p' file.txt\n",
    "执行命令后，文件中所有包含字符串 “hello world” 的行将被打印出来。"
   ]
  },
  {
   "attachments": {},
   "cell_type": "markdown",
   "metadata": {},
   "source": [
    "# 添加.*"
   ]
  },
  {
   "cell_type": "code",
   "execution_count": 3,
   "metadata": {},
   "outputs": [
    {
     "name": "stdout",
     "output_type": "stream",
     "text": [
      "隆.*瑞.*三.*优.*二.*通.*厂.*充.*电.*站.*收.*不.*收.*服.*务.*费.*\n"
     ]
    }
   ],
   "source": [
    "str_1 = \"隆瑞三优二通厂充电站收不收服务费\"\n",
    "\n",
    "def add_star_after(string):\n",
    "    # 将字符串中的汉字转换为全角\n",
    "    string = re.sub(r'[^\\u4e00-\\u9fff]', '', string)\n",
    "    \n",
    "    # 在每个汉字后面添加 \".*\"\n",
    "    pattern = re.compile(r'(\\w)')\n",
    "    new_string = pattern.sub(r'\\1.*', string, count=len(string))\n",
    "    \n",
    "    return new_string\n",
    "\n",
    "print (add_star_after(str_1))"
   ]
  },
  {
   "attachments": {},
   "cell_type": "markdown",
   "metadata": {},
   "source": [
    "# 替换fas格式到正常句子"
   ]
  },
  {
   "cell_type": "code",
   "execution_count": 13,
   "metadata": {},
   "outputs": [
    {
     "name": "stdout",
     "output_type": "stream",
     "text": [
      "收藏刘德华和金城武的电影投名状\n"
     ]
    }
   ],
   "source": [
    "#替换string1到string2\n",
    "#string1 = \"把|<unk> 成|<actor> 龙|<actor> 和|<unk> 金|<actor#1> 喜|<actor#1> \n",
    "#string2 = \"把成龙和金喜 \n",
    "\n",
    "\n",
    "# 要替换的字符串\n",
    "string = \"收|<unk> 藏|<unk> 刘|<actor> 德|<actor> 华|<actor> 和|<unk> 金|<actor#1> 城|<actor#1> 武|<actor#1> 的|<unk> 电|<unk> 影|<unk> 投|<movie> 名|<movie> 状|<movie>\"\n",
    "\n",
    "#pattern = r\"(hello)|(world)\"\n",
    "#new_string = re.subn(pattern, \"你好\\n你好\\n世界\", string)\n",
    "\n",
    "# 正则表达式，用于匹配要替换的部分\n",
    "pattern = r\"(\\|<[/?a-z_?a-z]*> )|(\\|<[/?a-z_?a-z]*>)|(\\|<[/?a-z_?a-z]*#1> )\"\n",
    "\n",
    "# 替换后的字符串\n",
    "new_string = re.subn(pattern, \"\", string)\n",
    "\n",
    "print(new_string[0])"
   ]
  },
  {
   "attachments": {},
   "cell_type": "markdown",
   "metadata": {},
   "source": [
    "# 添加空格"
   ]
  },
  {
   "cell_type": "code",
   "execution_count": 15,
   "metadata": {},
   "outputs": [
    {
     "name": "stdout",
     "output_type": "stream",
     "text": [
      "恢 复 定 速 巡 航\n",
      "查 询 引 擎 制 动 模 式\n",
      "查 询 快 速 换 挡 模 式\n",
      "查 询 水 箱 温 度\n",
      "查 询 骑 行 模 式\n"
     ]
    }
   ],
   "source": [
    "def add_spaces(text):\n",
    "    # 匹配中文字符和中文标点符号\n",
    "    chinese_pattern = re.compile(r'([\\u4e00-\\u9fa5\\u3000-\\u303f\\uff01-\\uffee])')\n",
    "    # 在中文字符和中文标点之间添加空格\n",
    "    spaced_text = chinese_pattern.sub(r' \\1 ', text)\n",
    "    return spaced_text\n",
    "\n",
    "# 测试\n",
    "# input_text = \"你好，世界！Hello World!\"\n",
    "# output_text = add_spaces(input_text)\n",
    "# print(output_text)\n",
    "\n",
    "f= open(add_space,\"r\",encoding='utf-8')\n",
    "sentences = set()\n",
    "for line in f:\n",
    "    s = add_spaces(line)\n",
    "    sentences.add(s.strip())\n",
    "f.close()\n",
    "\n",
    "sorted_sentences = sorted(sentences)\n",
    "\n",
    "for element in sorted_sentences:\n",
    "#     pass\n",
    "# print ()\n",
    "    print (element.strip().replace(\"  \",\" \"))"
   ]
  },
  {
   "attachments": {},
   "cell_type": "markdown",
   "metadata": {},
   "source": [
    "# 找出重复行"
   ]
  },
  {
   "cell_type": "code",
   "execution_count": 18,
   "metadata": {},
   "outputs": [
    {
     "name": "stdout",
     "output_type": "stream",
     "text": [
      "重复行在文件 'c:\\Users\\tao.yu\\Desktop\\tensor\\tools\\duplicate_lines' 中：\n",
      "ONENLU-8364.xml\n"
     ]
    }
   ],
   "source": [
    "def find_duplicate_lines(file_path):\n",
    "    lines_seen = set()\n",
    "    duplicate_lines = []\n",
    "\n",
    "    with open(file_path, 'r', encoding='utf-8') as file:\n",
    "        for line in file:\n",
    "            if line.strip() in lines_seen:\n",
    "                duplicate_lines.append(line.strip())\n",
    "            else:\n",
    "                lines_seen.add(line.strip())\n",
    "\n",
    "    return duplicate_lines\n",
    "\n",
    "def print_duplicate_lines(file_path):\n",
    "    duplicate_lines = find_duplicate_lines(file_path)\n",
    "    if duplicate_lines:\n",
    "        print(f\"重复行在文件 '{file_path}' 中：\")\n",
    "        for line in duplicate_lines:\n",
    "            print(line)\n",
    "    else:\n",
    "        print(f\"文件 '{file_path}' 中没有重复行。\")\n",
    "\n",
    "if __name__ == \"__main__\":\n",
    "    print_duplicate_lines(duplicate_lines)"
   ]
  },
  {
   "attachments": {},
   "cell_type": "markdown",
   "metadata": {},
   "source": [
    "# 删除文件重复行并且输出为另外一个文件"
   ]
  },
  {
   "cell_type": "code",
   "execution_count": 22,
   "metadata": {},
   "outputs": [
    {
     "name": "stdout",
     "output_type": "stream",
     "text": [
      "已删除文件 'c:\\Users\\tao.yu\\Desktop\\flow\\tools\\remove_duplicate/remove_duplicates' 中的重复行，并输出到 'c:\\Users\\tao.yu\\Desktop\\flow\\tools\\remove_duplicate/remove_duplicates_after' 文件中，并对内容进行排序。\n"
     ]
    }
   ],
   "source": [
    "def remove_duplicate_lines(input_file_path, output_file_path):\n",
    "    lines_seen = set()\n",
    "    sorted_lines = []\n",
    "\n",
    "    with open(input_file_path, 'r', encoding='utf-8') as input_file:\n",
    "        for line in input_file:\n",
    "            if line.strip() not in lines_seen:\n",
    "                sorted_lines.append(line.strip())\n",
    "                lines_seen.add(line.strip())\n",
    "\n",
    "    sorted_lines.sort()  # 对内容进行排序\n",
    "\n",
    "    with open(output_file_path, 'w', encoding='utf-8') as output_file:\n",
    "        for line in sorted_lines:\n",
    "            output_file.write(line + '\\n')\n",
    "\n",
    "if __name__ == \"__main__\":\n",
    "    remove_duplicate_lines(input_file_path, output_file_path)\n",
    "    print(f\"已删除文件 '{input_file_path}' 中的重复行，并输出到 '{output_file_path}' 文件中，并对内容进行排序。\")"
   ]
  },
  {
   "attachments": {},
   "cell_type": "markdown",
   "metadata": {},
   "source": [
    "# 正则匹配对应的内容"
   ]
  },
  {
   "cell_type": "code",
   "execution_count": 11,
   "metadata": {},
   "outputs": [
    {
     "name": "stdout",
     "output_type": "stream",
     "text": [
      "<cat=charging_station>=汽车充电站;\n",
      "<cat=charging_station>=充电桩;\n",
      "<cat=charging_station>=充电站;\n",
      "<cat=charging_station>=充电桩;\n",
      "<cat=charging_station>=充电桩;\n",
      "<cat=charging_station>=充电站;\n",
      "<cat=charging_station>=充电桩;\n",
      "<cat=charging_station>=充电桩;\n",
      "<cat=charging_station>=充电桩;\n",
      "<cat=charging_station>=充电站;\n",
      "<cat=charging_station>=充电站;\n",
      "<cat=charging_station>=充电站;\n",
      "<cat=charging_station>=充电站;\n",
      "<cat=charging_station>=汽车充电站;\n",
      "<cat=charging_station>=电动汽车充电站;\n",
      "<cat=charging_station>=充电站;\n",
      "<cat=charging_station>=充电站;\n",
      "<cat=charging_station>=充电站;\n",
      "<cat=charging_station>=充电站;\n",
      "<cat=charging_station>=充电站;\n",
      "<cat=charging_station>=充电站;\n",
      "<cat=charging_station>=充电站;\n",
      "<cat=charging_station>=充电站;\n",
      "<cat=charging_station>=充电站;\n",
      "<cat=charging_station>=充电站;\n",
      "<cat=charging_station>=充电站;\n",
      "<cat=charging_station>=充电站;\n",
      "<cat=charging_station>=充电站;\n",
      "<cat=charging_station>=充电站;\n",
      "<cat=charging_station>=充电站;\n",
      "<cat=charging_station>=充电站;\n",
      "<cat=charging_station>=充电站;\n",
      "<cat=charging_station>=充电站;\n",
      "<cat=charging_station>=充电站;\n",
      "<cat=charging_station>=充电站;\n",
      "<cat=charging_station>=充电站;\n",
      "<cat=charging_station>=充电站;\n",
      "<cat=charging_station>=充电站;\n",
      "<cat=charging_station>=充电站;\n",
      "<cat=charging_station>=汽车充电站;\n",
      "<cat=charging_station>=充电桩;\n",
      "<cat=charging_station>=充电站;\n",
      "<cat=charging_station>=充电站;\n",
      "<cat=charging_station>=充电站;\n",
      "<cat=charging_station>=充电站;\n",
      "<cat=charging_station>=充电站;\n",
      "<cat=charging_station>=汽车充电桩;\n",
      "<cat=charging_station>=充电桩;\n",
      "<cat=charging_station>=充电站;\n",
      "<cat=charging_station>=充电站;\n",
      "<cat=charging_station>=充电桩;\n",
      "<cat=charging_station>=充电站;\n",
      "<cat=charging_station>=充电站;\n",
      "<cat=charging_station>=充电站;\n",
      "<cat=charging_station>=充电站;\n",
      "<cat=charging_station>=充电桩;\n",
      "<cat=charging_station>=汽车充电桩;\n",
      "<cat=charging_station>=充电桩;\n",
      "<cat=charging_station>=充电站;\n",
      "<cat=charging_station>=充电站;\n",
      "<cat=charging_station>=充电桩;\n",
      "<cat=charging_station>=充电站;\n",
      "<cat=charging_station>=充电站;\n"
     ]
    }
   ],
   "source": [
    "with open('regex', 'r', encoding='utf-8') as file:\n",
    "    # 逐行读取文件内容\n",
    "    for line in file:\n",
    "        # 使用正则表达式匹配内容\n",
    "        # 匹配中文字符和中文标点符号\n",
    "        match = re.search(r'<cat=charging_station>=[\\u4e00-\\u9fa5\\u3000-\\u303f\\uff01-\\uffee]+;', line)\n",
    "        # 如果找到匹配项，则打印出来\n",
    "        if match:\n",
    "            print(match.group())"
   ]
  },
  {
   "cell_type": "markdown",
   "metadata": {},
   "source": [
    "# format的用法"
   ]
  },
  {
   "cell_type": "code",
   "execution_count": 8,
   "metadata": {},
   "outputs": [
    {
     "name": "stdout",
     "output_type": "stream",
     "text": [
      "Hello, Alice! You are 25 years old.\n",
      "My name is Alice and I am 25 years old.\n"
     ]
    }
   ],
   "source": [
    "name = \"Alice\"\n",
    "age = 25\n",
    "print(f\"Hello, {name}! You are {age} years old.\")   #f 这种用法在python3.6\n",
    "\n",
    "\n",
    "name = 'Alice'\n",
    "age = 25\n",
    "formatted_string = \"My name is {} and I am {} years old.\".format(name, age)\n",
    "print(formatted_string)"
   ]
  },
  {
   "cell_type": "code",
   "execution_count": 10,
   "metadata": {},
   "outputs": [
    {
     "name": "stdout",
     "output_type": "stream",
     "text": [
      "[0.3, 0.33, 0.37]\n",
      "[0.09, 0.24, 0.67]\n",
      "[0.0, 0.0, 1.0]\n",
      "[0.0, 0.0, 1.0]\n",
      "[0.0, 1.0]\n"
     ]
    }
   ],
   "source": [
    "import numpy as np\n",
    "def softmax(x):\n",
    "    exp_x = np.exp(x)\n",
    "    sum_exp_x = np.sum(exp_x)\n",
    "    y = [round(i/sum_exp_x,2) for i in exp_x]\n",
    "    return y\n",
    "\n",
    "a0=[0.1,0.2,0.3]\n",
    "print(softmax(a0))\n",
    "a1=[1,2,3]\n",
    "print(softmax(a1))\n",
    "a2=[10,20,30]\n",
    "print(softmax(a2))\n",
    "a3=[100,200,300]\n",
    "print(softmax(a3))\n",
    "a4=[100,200,]\n",
    "print(softmax(a4))\n"
   ]
  },
  {
   "cell_type": "code",
   "execution_count": 15,
   "metadata": {},
   "outputs": [],
   "source": [
    "import os\n",
    "os.makedirs(\"./visual/results\", exist_ok=True)"
   ]
  }
 ],
 "metadata": {
  "kernelspec": {
   "display_name": "Python 3",
   "language": "python",
   "name": "python3"
  },
  "language_info": {
   "codemirror_mode": {
    "name": "ipython",
    "version": 3
   },
   "file_extension": ".py",
   "mimetype": "text/x-python",
   "name": "python",
   "nbconvert_exporter": "python",
   "pygments_lexer": "ipython3",
   "version": "3.7.16"
  }
 },
 "nbformat": 4,
 "nbformat_minor": 4
}
